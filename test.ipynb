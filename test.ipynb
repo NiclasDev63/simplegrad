{
 "cells": [
  {
   "cell_type": "code",
   "execution_count": 1,
   "id": "3ed8e943",
   "metadata": {},
   "outputs": [
    {
     "name": "stderr",
     "output_type": "stream",
     "text": [
      "/opt/anaconda3/envs/simplegrad/lib/python3.12/site-packages/tqdm/auto.py:21: TqdmWarning: IProgress not found. Please update jupyter and ipywidgets. See https://ipywidgets.readthedocs.io/en/stable/user_install.html\n",
      "  from .autonotebook import tqdm as notebook_tqdm\n"
     ]
    },
    {
     "data": {
      "text/plain": [
       "(tensor([7., 8., 5.], grad_fn=<CopySlices>),\n",
       " tensor([1., 1., 1.]),\n",
       " tensor([1., 1., 1.]))"
      ]
     },
     "execution_count": 1,
     "metadata": {},
     "output_type": "execute_result"
    }
   ],
   "source": [
    "import torch\n",
    "from simplegrad import Tensor\n",
    "\n",
    "vals = [1., 2., 4.]\n",
    "x = torch.tensor(vals, requires_grad=True)\n",
    "x.retain_grad()\n",
    "b = x + 1\n",
    "b[0:2] = 2 * 5 / 2 + b[0:2]\n",
    "b.retain_grad()\n",
    "b.backward(torch.ones_like(b))\n",
    "b, b.grad, x.grad"
   ]
  },
  {
   "cell_type": "code",
   "execution_count": 2,
   "id": "4b0318b6",
   "metadata": {},
   "outputs": [
    {
     "name": "stdout",
     "output_type": "stream",
     "text": [
      "C [1. 2. 4.]\n",
      "Y 1\n",
      "C [2. 3.]\n",
      "Y 5.0\n"
     ]
    },
    {
     "data": {
      "text/plain": [
       "(array([7., 8., 5.], dtype=float32),\n",
       " array([1., 1., 1.], dtype=float32),\n",
       " array([0., 0., 1.], dtype=float32))"
      ]
     },
     "execution_count": 2,
     "metadata": {},
     "output_type": "execute_result"
    }
   ],
   "source": [
    "x = Tensor(vals, requires_grad=True)\n",
    "b = x + 1\n",
    "b[0:2] = 2 * 5 / 2 + b[0:2]\n",
    "b.backward()\n",
    "b.item, b.grad, x.grad"
   ]
  },
  {
   "cell_type": "code",
   "execution_count": null,
   "id": "ab5e5955",
   "metadata": {},
   "outputs": [
    {
     "data": {
      "text/plain": [
       "Tensor(item=[3. 4. 6.], requires_grad=True, grad_fn=<AddBackward>)"
      ]
     },
     "execution_count": 3,
     "metadata": {},
     "output_type": "execute_result"
    }
   ],
   "source": [
    "x = Tensor(vals, requires_grad=True)\n",
    "2 + x "
   ]
  },
  {
   "cell_type": "code",
   "execution_count": null,
   "id": "81c91cb0",
   "metadata": {},
   "outputs": [],
   "source": []
  }
 ],
 "metadata": {
  "kernelspec": {
   "display_name": "simplegrad",
   "language": "python",
   "name": "python3"
  },
  "language_info": {
   "codemirror_mode": {
    "name": "ipython",
    "version": 3
   },
   "file_extension": ".py",
   "mimetype": "text/x-python",
   "name": "python",
   "nbconvert_exporter": "python",
   "pygments_lexer": "ipython3",
   "version": "3.12.11"
  }
 },
 "nbformat": 4,
 "nbformat_minor": 5
}
